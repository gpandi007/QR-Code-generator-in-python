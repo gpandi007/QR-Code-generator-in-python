{
 "cells": [
  {
   "cell_type": "code",
   "execution_count": 4,
   "metadata": {},
   "outputs": [
    {
     "name": "stdout",
     "output_type": "stream",
     "text": [
      "https://www.asktoastrologer.com/\n"
     ]
    }
   ],
   "source": [
    "import qrcode\n",
    "sample = qrcode.make(\"https://www.asktoastrologer.com/\")\n",
    "sample.save(\"test.jpg\")\n",
    "import cv2\n",
    "d = cv2.QRCodeDetector()\n",
    "val, points, straight_qrcode = d.detectAndDecode(cv2.imread(\"test.jpg\"))\n",
    "print(val)"
   ]
  },
  {
   "cell_type": "code",
   "execution_count": null,
   "metadata": {},
   "outputs": [],
   "source": []
  }
 ],
 "metadata": {
  "kernelspec": {
   "display_name": "Python 3",
   "language": "python",
   "name": "python3"
  },
  "language_info": {
   "codemirror_mode": {
    "name": "ipython",
    "version": 3
   },
   "file_extension": ".py",
   "mimetype": "text/x-python",
   "name": "python",
   "nbconvert_exporter": "python",
   "pygments_lexer": "ipython3",
   "version": "3.7.6"
  }
 },
 "nbformat": 4,
 "nbformat_minor": 4
}
